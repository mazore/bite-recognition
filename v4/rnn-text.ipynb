{
 "cells": [
  {
   "cell_type": "code",
   "execution_count": 4,
   "metadata": {},
   "outputs": [],
   "source": [
    "import numpy as np\n",
    "\n",
    "import tensorflow_datasets as tfds\n",
    "import tensorflow as tf\n",
    "\n",
    "import matplotlib.pyplot as plt\n",
    "\n",
    "\n",
    "def plot_graphs(history, metric):\n",
    "    plt.plot(history.history[metric])\n",
    "    plt.plot(history.history['val_'+metric], '')\n",
    "    plt.xlabel(\"Epochs\")\n",
    "    plt.ylabel(metric)\n",
    "    plt.legend([metric, 'val_'+metric])"
   ]
  },
  {
   "cell_type": "code",
   "execution_count": 35,
   "metadata": {},
   "outputs": [
    {
     "data": {
      "text/plain": [
       "(TensorSpec(shape=(), dtype=tf.string, name=None),\n",
       " TensorSpec(shape=(), dtype=tf.int64, name=None))"
      ]
     },
     "execution_count": 35,
     "metadata": {},
     "output_type": "execute_result"
    }
   ],
   "source": [
    "dataset, info = tfds.load('imdb_reviews', with_info=True, as_supervised=True)\n",
    "train_dataset, test_dataset = dataset['train'], dataset['test']\n",
    "train_dataset.element_spec"
   ]
  },
  {
   "cell_type": "code",
   "execution_count": 36,
   "metadata": {},
   "outputs": [
    {
     "name": "stdout",
     "output_type": "stream",
     "text": [
      "text:  b\"This was an absolutely terrible movie. Don't be lured in by Christopher Walken or Michael Ironside. Both are great actors, but this must simply be their worst role in history. Even their great acting could not redeem this movie's ridiculous storyline. This movie is an early nineties US propaganda piece. The most pathetic scenes were those when the Columbian rebels were making their cases for revolutions. Maria Conchita Alonso appeared phony, and her pseudo-love affair with Walken was nothing but a pathetic emotional plug in a movie that was devoid of any real meaning. I am disappointed that there are movies like this, ruining actor's like Christopher Walken's good name. I could barely sit through it.\"\n",
      "label:  0\n"
     ]
    }
   ],
   "source": [
    "for example, label in train_dataset.take(1):\n",
    "  print('text: ', example.numpy())\n",
    "  print('label: ', label.numpy())"
   ]
  },
  {
   "cell_type": "code",
   "execution_count": 37,
   "metadata": {},
   "outputs": [],
   "source": [
    "BUFFER_SIZE = 10000\n",
    "BATCH_SIZE = 64"
   ]
  },
  {
   "cell_type": "code",
   "execution_count": 38,
   "metadata": {},
   "outputs": [],
   "source": [
    "train_dataset = train_dataset.shuffle(BUFFER_SIZE).batch(BATCH_SIZE).prefetch(tf.data.AUTOTUNE)\n",
    "test_dataset = test_dataset.batch(BATCH_SIZE).prefetch(tf.data.AUTOTUNE)"
   ]
  },
  {
   "cell_type": "code",
   "execution_count": 39,
   "metadata": {},
   "outputs": [
    {
     "name": "stdout",
     "output_type": "stream",
     "text": [
      "texts:  [b\"This picture for me scores very highly as it is a hugely enjoyable and amusing spoof of Alien Invaders taking over a town and many of its' men folk.<br /><br />The town and the players are all decked out in sort of 1950's style and the whole movie has a deliberate tacky and kitschy feel to it. Some of the scenes are hilarious like with the birth of an alien creature.<br /><br />All the actors give full blooded and serious performances which makes the film even funnier and the special effects and Aliens are at least it seems to me intentionally 3rd rate to add to the amusement.<br /><br />These type of films often deserve a cult following:<br /><br />8/10.\"\n",
      " b'***SPOILERS*** ***SPOILERS*** After two so-so outings (\"Magnum Force\" and \"The Enforcer\"), Dirty Harry seems to have regained his stride in \"Sudden Impact,\" a gripping thriller that wisely plays to its strengths: the charisma of Clint Eastwood, who also directed, and a story that spends just enough time on exposition and reserves its energy for the big scenes.<br /><br />For once, the case takes Harry outside his native San Francisco (where he\\'s again in trouble with his superiors for his \"shoot first, ask questions later\" tactics), to the hamlet of San Paulo. There, (WARNING: Potential spoiler) a group of lowlifes is being gruesomely murdered, one at a time, by a woman whom they gang-raped years earlier, and whose sister has been in a state of catatonia ever since the attack.<br /><br />The killer is portrayed by Sondra Locke, and she makes the character of Jennifer Spencer an interesting mix of compassion and cold-bloodedness. Locke\\'s cold eyes and frosty voice, when either trying to comfort her hospitalized sister or dispensing vengeance toward the rapists, are very effective in painting a portrait of a woman wronged whose years of suffering and rage are now beginning to bear deadly fruit.<br /><br />The rapists are a despicable lot, especially the leader, who has \"psycho nutjob\" practically stamped on his forehead, and a lesbian who seems almost one of the guys, despite her anatomical inability to participate. The flashback scenes, while not graphically explicit, are nightmarish enough, and clearly intended to make the audience cheer for Jennifer as she kills her assailants.<br /><br />Some will dismiss \"Sudden Impact\" as trash: a mindless, manipulative revenge tale. On a certain level this is true, but it\\'s well-done trash. What works to the movie\\'s advantage is the strength of the Sondra Locke performance, giving us a complex character whose wounds are more visible in her paintings than in her gestures or speech. What we have here is an action movie with a point of view.<br /><br />You can take or leave the idea that some wrongs deserve to be punished by any means necessary, but as the mystery behind the slayings becomes clear to Harry (a realization that, wisely, is not spelled out with dialogue), he is presented with a choice -- what to do about a killer whose motivations he can sympathize with but whose conduct he is bound by law to not tolerate. This makes the story more interesting than the usual Dirty Harry fare.<br /><br />The movie\\'s other redeeming quality is Eastwood\\'s direction. This is, after all, a Dirty Harry movie, and Eastwood knows the character better than anyone else. The movie is directed with style and wit, and edited to give the action scenes a big payoff. Some of the best \"Harry moments\" in the entire series are here, including Harry\\'s best-known line, \"Go ahead -- make my day.\"<br /><br />\"Sudden Impact\" is a movie that has the courage of its convictions in presenting a tale about a despicable crime and the brutal consequences that follow. It is also a riveting detective story, well made and well told. And it is certainly never dull. On those criteria, it succeeds tremendously.'\n",
      " b'OK me and a friend rented this a few days ago because we like to keep track of b-movies since we do them ourselves. Anyway, the cover contained blood and weird looking naked girls with fangs and stuff... and Tom Savini! There is just no way this movie can fail! Right? wrong!! It just seems like such a waste! There was really no story, the dialog was terrible (is anyone there? x 1000!!!), the characters were.. well, they really lacked any kind of personality... The effects were terrible.. and whats up with these long artsy shots of scared people running around doing nothing.. with extreme closeups of eyes and stuff? We were sitting the whole movie waiting for something... anything to happen... but no... \"oh, here comes the nymphs! great! oh.. they\\'re kissing... again... and now for the violence! OK... nothing really happens... again... oh, now they run around... and the closeups of eyes... again... oh, heres Tom Savini! Oh... he died... right... OK, maybe now something cool or even interesting will happen.. no.. oh! Cool! a severed head! the end... oh crap..\" And finally, since i\\'m so full of myself.. i\\'ll tell you this! Give me a van, six actors, a weird looking house, Tom Savini, a couple of naked girls with fangs and buckets of blood and i could make the coolest movie you\\'ve ever seen... I\\'ve made movies with zero budget in two days that has better effects, better acting and a better script than this... what is this Johannes guy doing?? Making cool movies is easy!It could have been so great... I\\'m really upset!!']\n",
      "\n",
      "labels:  [1 1 0]\n"
     ]
    }
   ],
   "source": [
    "for example, label in train_dataset.take(1):\n",
    "  print('texts: ', example.numpy()[:3])\n",
    "  print()\n",
    "  print('labels: ', label.numpy()[:3])"
   ]
  },
  {
   "cell_type": "code",
   "execution_count": 25,
   "metadata": {},
   "outputs": [],
   "source": [
    "VOCAB_SIZE = 1000\n",
    "encoder = tf.keras.layers.TextVectorization(max_tokens=VOCAB_SIZE)\n",
    "encoder.adapt(train_dataset.map(lambda text, label: text))"
   ]
  },
  {
   "cell_type": "code",
   "execution_count": 40,
   "metadata": {},
   "outputs": [
    {
     "data": {
      "text/plain": [
       "array(['', '[UNK]', 'the', 'and', 'a', 'of', 'to', 'is', 'in', 'it', 'i',\n",
       "       'this', 'that', 'br', 'was', 'as', 'for', 'with', 'movie', 'but'],\n",
       "      dtype='<U14')"
      ]
     },
     "execution_count": 40,
     "metadata": {},
     "output_type": "execute_result"
    }
   ],
   "source": [
    "vocab = np.array(encoder.get_vocabulary())\n",
    "vocab[:20]"
   ]
  },
  {
   "cell_type": "code",
   "execution_count": 43,
   "metadata": {},
   "outputs": [
    {
     "data": {
      "text/plain": [
       "array([[ 11, 433,  16, ...,   0,   0,   0],\n",
       "       [  1,   1, 101, ...,   0,   0,   0],\n",
       "       [597,  70,   3, ...,   0,   0,   0]], dtype=int64)"
      ]
     },
     "execution_count": 43,
     "metadata": {},
     "output_type": "execute_result"
    }
   ],
   "source": [
    "encoded_example = encoder(example)[:3].numpy()\n",
    "encoded_example"
   ]
  },
  {
   "cell_type": "code",
   "execution_count": 44,
   "metadata": {},
   "outputs": [
    {
     "name": "stdout",
     "output_type": "stream",
     "text": [
      "Original:  b\"This picture for me scores very highly as it is a hugely enjoyable and amusing spoof of Alien Invaders taking over a town and many of its' men folk.<br /><br />The town and the players are all decked out in sort of 1950's style and the whole movie has a deliberate tacky and kitschy feel to it. Some of the scenes are hilarious like with the birth of an alien creature.<br /><br />All the actors give full blooded and serious performances which makes the film even funnier and the special effects and Aliens are at least it seems to me intentionally 3rd rate to add to the amusement.<br /><br />These type of films often deserve a cult following:<br /><br />8/10.\"\n",
      "Round-trip:  this picture for me [UNK] very highly as it is a [UNK] enjoyable and [UNK] [UNK] of [UNK] [UNK] taking over a town and many of its men [UNK] br the town and the [UNK] are all [UNK] out in sort of [UNK] style and the whole movie has a [UNK] [UNK] and [UNK] feel to it some of the scenes are hilarious like with the [UNK] of an [UNK] [UNK] br all the actors give full [UNK] and serious performances which makes the film even [UNK] and the special effects and [UNK] are at least it seems to me [UNK] [UNK] [UNK] to add to the [UNK] br these type of films often [UNK] a [UNK] [UNK] br [UNK]                                                                                                                                                                                                                                                                                                                                                                                                                                                                                                                                                          \n",
      "\n",
      "Original:  b'***SPOILERS*** ***SPOILERS*** After two so-so outings (\"Magnum Force\" and \"The Enforcer\"), Dirty Harry seems to have regained his stride in \"Sudden Impact,\" a gripping thriller that wisely plays to its strengths: the charisma of Clint Eastwood, who also directed, and a story that spends just enough time on exposition and reserves its energy for the big scenes.<br /><br />For once, the case takes Harry outside his native San Francisco (where he\\'s again in trouble with his superiors for his \"shoot first, ask questions later\" tactics), to the hamlet of San Paulo. There, (WARNING: Potential spoiler) a group of lowlifes is being gruesomely murdered, one at a time, by a woman whom they gang-raped years earlier, and whose sister has been in a state of catatonia ever since the attack.<br /><br />The killer is portrayed by Sondra Locke, and she makes the character of Jennifer Spencer an interesting mix of compassion and cold-bloodedness. Locke\\'s cold eyes and frosty voice, when either trying to comfort her hospitalized sister or dispensing vengeance toward the rapists, are very effective in painting a portrait of a woman wronged whose years of suffering and rage are now beginning to bear deadly fruit.<br /><br />The rapists are a despicable lot, especially the leader, who has \"psycho nutjob\" practically stamped on his forehead, and a lesbian who seems almost one of the guys, despite her anatomical inability to participate. The flashback scenes, while not graphically explicit, are nightmarish enough, and clearly intended to make the audience cheer for Jennifer as she kills her assailants.<br /><br />Some will dismiss \"Sudden Impact\" as trash: a mindless, manipulative revenge tale. On a certain level this is true, but it\\'s well-done trash. What works to the movie\\'s advantage is the strength of the Sondra Locke performance, giving us a complex character whose wounds are more visible in her paintings than in her gestures or speech. What we have here is an action movie with a point of view.<br /><br />You can take or leave the idea that some wrongs deserve to be punished by any means necessary, but as the mystery behind the slayings becomes clear to Harry (a realization that, wisely, is not spelled out with dialogue), he is presented with a choice -- what to do about a killer whose motivations he can sympathize with but whose conduct he is bound by law to not tolerate. This makes the story more interesting than the usual Dirty Harry fare.<br /><br />The movie\\'s other redeeming quality is Eastwood\\'s direction. This is, after all, a Dirty Harry movie, and Eastwood knows the character better than anyone else. The movie is directed with style and wit, and edited to give the action scenes a big payoff. Some of the best \"Harry moments\" in the entire series are here, including Harry\\'s best-known line, \"Go ahead -- make my day.\"<br /><br />\"Sudden Impact\" is a movie that has the courage of its convictions in presenting a tale about a despicable crime and the brutal consequences that follow. It is also a riveting detective story, well made and well told. And it is certainly never dull. On those criteria, it succeeds tremendously.'\n",
      "Round-trip:  [UNK] [UNK] after two [UNK] [UNK] [UNK] [UNK] and the [UNK] [UNK] [UNK] seems to have [UNK] his [UNK] in [UNK] [UNK] a [UNK] thriller that [UNK] plays to its [UNK] the [UNK] of [UNK] [UNK] who also directed and a story that [UNK] just enough time on [UNK] and [UNK] its [UNK] for the big [UNK] br for once the case takes [UNK] outside his [UNK] [UNK] [UNK] where hes again in [UNK] with his [UNK] for his [UNK] first ask [UNK] later [UNK] to the [UNK] of [UNK] [UNK] there [UNK] potential [UNK] a group of [UNK] is being [UNK] [UNK] one at a time by a woman whom they [UNK] years earlier and whose sister has been in a [UNK] of [UNK] ever since the [UNK] br the killer is portrayed by [UNK] [UNK] and she makes the character of [UNK] [UNK] an interesting [UNK] of [UNK] and [UNK] [UNK] [UNK] eyes and [UNK] voice when either trying to [UNK] her [UNK] sister or [UNK] [UNK] [UNK] the [UNK] are very [UNK] in [UNK] a [UNK] of a woman [UNK] whose years of [UNK] and [UNK] are now beginning to [UNK] [UNK] [UNK] br the [UNK] are a [UNK] lot especially the [UNK] who has [UNK] [UNK] [UNK] [UNK] on his [UNK] and a [UNK] who seems almost one of the guys despite her [UNK] [UNK] to [UNK] the [UNK] scenes while not [UNK] [UNK] are [UNK] enough and clearly [UNK] to make the audience [UNK] for [UNK] as she [UNK] her [UNK] br some will [UNK] [UNK] [UNK] as [UNK] a [UNK] [UNK] [UNK] tale on a certain level this is true but its [UNK] [UNK] what works to the movies [UNK] is the [UNK] of the [UNK] [UNK] performance giving us a [UNK] character whose [UNK] are more [UNK] in her [UNK] than in her [UNK] or [UNK] what we have here is an action movie with a point of [UNK] br you can take or leave the idea that some [UNK] [UNK] to be [UNK] by any means [UNK] but as the mystery behind the [UNK] becomes clear to [UNK] a [UNK] that [UNK] is not [UNK] out with dialogue he is [UNK] with a [UNK] what to do about a killer whose [UNK] he can [UNK] with but whose [UNK] he is [UNK] by [UNK] to not [UNK] this makes the story more interesting than the usual [UNK] [UNK] [UNK] br the movies other [UNK] quality is [UNK] direction this is after all a [UNK] [UNK] movie and [UNK] knows the character better than anyone else the movie is directed with style and [UNK] and [UNK] to give the action scenes a big [UNK] some of the best [UNK] moments in the entire series are here including [UNK] [UNK] line go [UNK] make my [UNK] br [UNK] [UNK] is a movie that has the [UNK] of its [UNK] in [UNK] a tale about a [UNK] crime and the [UNK] [UNK] that follow it is also a [UNK] [UNK] story well made and well told and it is certainly never dull on those [UNK] it [UNK] [UNK]                                                                                                                                       \n",
      "\n",
      "Original:  b'OK me and a friend rented this a few days ago because we like to keep track of b-movies since we do them ourselves. Anyway, the cover contained blood and weird looking naked girls with fangs and stuff... and Tom Savini! There is just no way this movie can fail! Right? wrong!! It just seems like such a waste! There was really no story, the dialog was terrible (is anyone there? x 1000!!!), the characters were.. well, they really lacked any kind of personality... The effects were terrible.. and whats up with these long artsy shots of scared people running around doing nothing.. with extreme closeups of eyes and stuff? We were sitting the whole movie waiting for something... anything to happen... but no... \"oh, here comes the nymphs! great! oh.. they\\'re kissing... again... and now for the violence! OK... nothing really happens... again... oh, now they run around... and the closeups of eyes... again... oh, heres Tom Savini! Oh... he died... right... OK, maybe now something cool or even interesting will happen.. no.. oh! Cool! a severed head! the end... oh crap..\" And finally, since i\\'m so full of myself.. i\\'ll tell you this! Give me a van, six actors, a weird looking house, Tom Savini, a couple of naked girls with fangs and buckets of blood and i could make the coolest movie you\\'ve ever seen... I\\'ve made movies with zero budget in two days that has better effects, better acting and a better script than this... what is this Johannes guy doing?? Making cool movies is easy!It could have been so great... I\\'m really upset!!'\n",
      "Round-trip:  ok me and a friend [UNK] this a few days ago because we like to keep [UNK] of [UNK] since we do them [UNK] anyway the [UNK] [UNK] blood and weird looking [UNK] girls with [UNK] and stuff and tom [UNK] there is just no way this movie can [UNK] right wrong it just seems like such a waste there was really no story the dialog was terrible is anyone there [UNK] [UNK] the characters were well they really [UNK] any kind of [UNK] the effects were terrible and whats up with these long [UNK] shots of [UNK] people running around doing nothing with [UNK] [UNK] of eyes and stuff we were [UNK] the whole movie [UNK] for something anything to happen but no oh here comes the [UNK] great oh theyre [UNK] again and now for the violence ok nothing really happens again oh now they run around and the [UNK] of eyes again oh [UNK] tom [UNK] oh he [UNK] right ok maybe now something cool or even interesting will happen no oh cool a [UNK] head the end oh crap and finally since im so full of myself ill tell you this give me a [UNK] [UNK] actors a weird looking house tom [UNK] a couple of [UNK] girls with [UNK] and [UNK] of blood and i could make the [UNK] movie youve ever seen ive made movies with [UNK] budget in two days that has better effects better acting and a better script than this what is this [UNK] guy doing making cool movies is [UNK] could have been so great im really [UNK]                                                                                                                                                                                                                                                                                                                                                                                                      \n",
      "\n"
     ]
    }
   ],
   "source": [
    "for n in range(3):\n",
    "  print(\"Original: \", example[n].numpy())\n",
    "  print(\"Round-trip: \", \" \".join(vocab[encoded_example[n]]))\n",
    "  print()"
   ]
  },
  {
   "cell_type": "code",
   "execution_count": 50,
   "metadata": {},
   "outputs": [],
   "source": [
    "model = tf.keras.Sequential([\n",
    "    encoder,\n",
    "    tf.keras.layers.Embedding(\n",
    "        input_dim=len(encoder.get_vocabulary()),\n",
    "        output_dim=64,\n",
    "        # Use masking to handle the variable sequence lengths\n",
    "        mask_zero=True),\n",
    "    tf.keras.layers.Bidirectional(tf.keras.layers.LSTM(64)),\n",
    "    tf.keras.layers.Dense(64, activation='relu'),\n",
    "    tf.keras.layers.Dense(1)\n",
    "])"
   ]
  },
  {
   "cell_type": "code",
   "execution_count": 51,
   "metadata": {},
   "outputs": [
    {
     "name": "stdout",
     "output_type": "stream",
     "text": [
      "[False, True, True, True, True]\n"
     ]
    }
   ],
   "source": [
    "print([layer.supports_masking for layer in model.layers])"
   ]
  },
  {
   "cell_type": "code",
   "execution_count": 52,
   "metadata": {},
   "outputs": [],
   "source": [
    "model.compile(loss=tf.keras.losses.BinaryCrossentropy(from_logits=True),\n",
    "              optimizer=tf.keras.optimizers.Adam(1e-4),\n",
    "              metrics=['accuracy'])"
   ]
  },
  {
   "cell_type": "code",
   "execution_count": 53,
   "metadata": {},
   "outputs": [
    {
     "name": "stdout",
     "output_type": "stream",
     "text": [
      "Epoch 1/10\n",
      "\u001b[1m 91/391\u001b[0m \u001b[32m━━━━\u001b[0m\u001b[37m━━━━━━━━━━━━━━━━\u001b[0m \u001b[1m14:56\u001b[0m 3s/step - accuracy: 0.5047 - loss: 0.6929"
     ]
    },
    {
     "ename": "KeyboardInterrupt",
     "evalue": "",
     "output_type": "error",
     "traceback": [
      "\u001b[1;31m---------------------------------------------------------------------------\u001b[0m",
      "\u001b[1;31mKeyboardInterrupt\u001b[0m                         Traceback (most recent call last)",
      "Cell \u001b[1;32mIn[53], line 1\u001b[0m\n\u001b[1;32m----> 1\u001b[0m history \u001b[38;5;241m=\u001b[39m \u001b[43mmodel\u001b[49m\u001b[38;5;241;43m.\u001b[39;49m\u001b[43mfit\u001b[49m\u001b[43m(\u001b[49m\u001b[43mtrain_dataset\u001b[49m\u001b[43m,\u001b[49m\u001b[43m \u001b[49m\u001b[43mepochs\u001b[49m\u001b[38;5;241;43m=\u001b[39;49m\u001b[38;5;241;43m10\u001b[39;49m\u001b[43m,\u001b[49m\n\u001b[0;32m      2\u001b[0m \u001b[43m                    \u001b[49m\u001b[43mvalidation_data\u001b[49m\u001b[38;5;241;43m=\u001b[39;49m\u001b[43mtest_dataset\u001b[49m\u001b[43m,\u001b[49m\n\u001b[0;32m      3\u001b[0m \u001b[43m                    \u001b[49m\u001b[43mvalidation_steps\u001b[49m\u001b[38;5;241;43m=\u001b[39;49m\u001b[38;5;241;43m30\u001b[39;49m\u001b[43m)\u001b[49m\n",
      "File \u001b[1;32mc:\\Users\\Evan Mazor\\code\\learning\\learning-tensorflow\\.venv\\Lib\\site-packages\\keras\\src\\utils\\traceback_utils.py:117\u001b[0m, in \u001b[0;36mfilter_traceback.<locals>.error_handler\u001b[1;34m(*args, **kwargs)\u001b[0m\n\u001b[0;32m    115\u001b[0m filtered_tb \u001b[38;5;241m=\u001b[39m \u001b[38;5;28;01mNone\u001b[39;00m\n\u001b[0;32m    116\u001b[0m \u001b[38;5;28;01mtry\u001b[39;00m:\n\u001b[1;32m--> 117\u001b[0m     \u001b[38;5;28;01mreturn\u001b[39;00m \u001b[43mfn\u001b[49m\u001b[43m(\u001b[49m\u001b[38;5;241;43m*\u001b[39;49m\u001b[43margs\u001b[49m\u001b[43m,\u001b[49m\u001b[43m \u001b[49m\u001b[38;5;241;43m*\u001b[39;49m\u001b[38;5;241;43m*\u001b[39;49m\u001b[43mkwargs\u001b[49m\u001b[43m)\u001b[49m\n\u001b[0;32m    118\u001b[0m \u001b[38;5;28;01mexcept\u001b[39;00m \u001b[38;5;167;01mException\u001b[39;00m \u001b[38;5;28;01mas\u001b[39;00m e:\n\u001b[0;32m    119\u001b[0m     filtered_tb \u001b[38;5;241m=\u001b[39m _process_traceback_frames(e\u001b[38;5;241m.\u001b[39m__traceback__)\n",
      "File \u001b[1;32mc:\\Users\\Evan Mazor\\code\\learning\\learning-tensorflow\\.venv\\Lib\\site-packages\\keras\\src\\backend\\tensorflow\\trainer.py:318\u001b[0m, in \u001b[0;36mTensorFlowTrainer.fit\u001b[1;34m(self, x, y, batch_size, epochs, verbose, callbacks, validation_split, validation_data, shuffle, class_weight, sample_weight, initial_epoch, steps_per_epoch, validation_steps, validation_batch_size, validation_freq)\u001b[0m\n\u001b[0;32m    316\u001b[0m \u001b[38;5;28;01mfor\u001b[39;00m step, iterator \u001b[38;5;129;01min\u001b[39;00m epoch_iterator\u001b[38;5;241m.\u001b[39menumerate_epoch():\n\u001b[0;32m    317\u001b[0m     callbacks\u001b[38;5;241m.\u001b[39mon_train_batch_begin(step)\n\u001b[1;32m--> 318\u001b[0m     logs \u001b[38;5;241m=\u001b[39m \u001b[38;5;28;43mself\u001b[39;49m\u001b[38;5;241;43m.\u001b[39;49m\u001b[43mtrain_function\u001b[49m\u001b[43m(\u001b[49m\u001b[43miterator\u001b[49m\u001b[43m)\u001b[49m\n\u001b[0;32m    319\u001b[0m     logs \u001b[38;5;241m=\u001b[39m \u001b[38;5;28mself\u001b[39m\u001b[38;5;241m.\u001b[39m_pythonify_logs(logs)\n\u001b[0;32m    320\u001b[0m     callbacks\u001b[38;5;241m.\u001b[39mon_train_batch_end(step, logs)\n",
      "File \u001b[1;32mc:\\Users\\Evan Mazor\\code\\learning\\learning-tensorflow\\.venv\\Lib\\site-packages\\tensorflow\\python\\util\\traceback_utils.py:150\u001b[0m, in \u001b[0;36mfilter_traceback.<locals>.error_handler\u001b[1;34m(*args, **kwargs)\u001b[0m\n\u001b[0;32m    148\u001b[0m filtered_tb \u001b[38;5;241m=\u001b[39m \u001b[38;5;28;01mNone\u001b[39;00m\n\u001b[0;32m    149\u001b[0m \u001b[38;5;28;01mtry\u001b[39;00m:\n\u001b[1;32m--> 150\u001b[0m   \u001b[38;5;28;01mreturn\u001b[39;00m \u001b[43mfn\u001b[49m\u001b[43m(\u001b[49m\u001b[38;5;241;43m*\u001b[39;49m\u001b[43margs\u001b[49m\u001b[43m,\u001b[49m\u001b[43m \u001b[49m\u001b[38;5;241;43m*\u001b[39;49m\u001b[38;5;241;43m*\u001b[39;49m\u001b[43mkwargs\u001b[49m\u001b[43m)\u001b[49m\n\u001b[0;32m    151\u001b[0m \u001b[38;5;28;01mexcept\u001b[39;00m \u001b[38;5;167;01mException\u001b[39;00m \u001b[38;5;28;01mas\u001b[39;00m e:\n\u001b[0;32m    152\u001b[0m   filtered_tb \u001b[38;5;241m=\u001b[39m _process_traceback_frames(e\u001b[38;5;241m.\u001b[39m__traceback__)\n",
      "File \u001b[1;32mc:\\Users\\Evan Mazor\\code\\learning\\learning-tensorflow\\.venv\\Lib\\site-packages\\tensorflow\\python\\eager\\polymorphic_function\\polymorphic_function.py:833\u001b[0m, in \u001b[0;36mFunction.__call__\u001b[1;34m(self, *args, **kwds)\u001b[0m\n\u001b[0;32m    830\u001b[0m compiler \u001b[38;5;241m=\u001b[39m \u001b[38;5;124m\"\u001b[39m\u001b[38;5;124mxla\u001b[39m\u001b[38;5;124m\"\u001b[39m \u001b[38;5;28;01mif\u001b[39;00m \u001b[38;5;28mself\u001b[39m\u001b[38;5;241m.\u001b[39m_jit_compile \u001b[38;5;28;01melse\u001b[39;00m \u001b[38;5;124m\"\u001b[39m\u001b[38;5;124mnonXla\u001b[39m\u001b[38;5;124m\"\u001b[39m\n\u001b[0;32m    832\u001b[0m \u001b[38;5;28;01mwith\u001b[39;00m OptionalXlaContext(\u001b[38;5;28mself\u001b[39m\u001b[38;5;241m.\u001b[39m_jit_compile):\n\u001b[1;32m--> 833\u001b[0m   result \u001b[38;5;241m=\u001b[39m \u001b[38;5;28;43mself\u001b[39;49m\u001b[38;5;241;43m.\u001b[39;49m\u001b[43m_call\u001b[49m\u001b[43m(\u001b[49m\u001b[38;5;241;43m*\u001b[39;49m\u001b[43margs\u001b[49m\u001b[43m,\u001b[49m\u001b[43m \u001b[49m\u001b[38;5;241;43m*\u001b[39;49m\u001b[38;5;241;43m*\u001b[39;49m\u001b[43mkwds\u001b[49m\u001b[43m)\u001b[49m\n\u001b[0;32m    835\u001b[0m new_tracing_count \u001b[38;5;241m=\u001b[39m \u001b[38;5;28mself\u001b[39m\u001b[38;5;241m.\u001b[39mexperimental_get_tracing_count()\n\u001b[0;32m    836\u001b[0m without_tracing \u001b[38;5;241m=\u001b[39m (tracing_count \u001b[38;5;241m==\u001b[39m new_tracing_count)\n",
      "File \u001b[1;32mc:\\Users\\Evan Mazor\\code\\learning\\learning-tensorflow\\.venv\\Lib\\site-packages\\tensorflow\\python\\eager\\polymorphic_function\\polymorphic_function.py:878\u001b[0m, in \u001b[0;36mFunction._call\u001b[1;34m(self, *args, **kwds)\u001b[0m\n\u001b[0;32m    875\u001b[0m \u001b[38;5;28mself\u001b[39m\u001b[38;5;241m.\u001b[39m_lock\u001b[38;5;241m.\u001b[39mrelease()\n\u001b[0;32m    876\u001b[0m \u001b[38;5;66;03m# In this case we have not created variables on the first call. So we can\u001b[39;00m\n\u001b[0;32m    877\u001b[0m \u001b[38;5;66;03m# run the first trace but we should fail if variables are created.\u001b[39;00m\n\u001b[1;32m--> 878\u001b[0m results \u001b[38;5;241m=\u001b[39m \u001b[43mtracing_compilation\u001b[49m\u001b[38;5;241;43m.\u001b[39;49m\u001b[43mcall_function\u001b[49m\u001b[43m(\u001b[49m\n\u001b[0;32m    879\u001b[0m \u001b[43m    \u001b[49m\u001b[43margs\u001b[49m\u001b[43m,\u001b[49m\u001b[43m \u001b[49m\u001b[43mkwds\u001b[49m\u001b[43m,\u001b[49m\u001b[43m \u001b[49m\u001b[38;5;28;43mself\u001b[39;49m\u001b[38;5;241;43m.\u001b[39;49m\u001b[43m_variable_creation_config\u001b[49m\n\u001b[0;32m    880\u001b[0m \u001b[43m\u001b[49m\u001b[43m)\u001b[49m\n\u001b[0;32m    881\u001b[0m \u001b[38;5;28;01mif\u001b[39;00m \u001b[38;5;28mself\u001b[39m\u001b[38;5;241m.\u001b[39m_created_variables:\n\u001b[0;32m    882\u001b[0m   \u001b[38;5;28;01mraise\u001b[39;00m \u001b[38;5;167;01mValueError\u001b[39;00m(\u001b[38;5;124m\"\u001b[39m\u001b[38;5;124mCreating variables on a non-first call to a function\u001b[39m\u001b[38;5;124m\"\u001b[39m\n\u001b[0;32m    883\u001b[0m                    \u001b[38;5;124m\"\u001b[39m\u001b[38;5;124m decorated with tf.function.\u001b[39m\u001b[38;5;124m\"\u001b[39m)\n",
      "File \u001b[1;32mc:\\Users\\Evan Mazor\\code\\learning\\learning-tensorflow\\.venv\\Lib\\site-packages\\tensorflow\\python\\eager\\polymorphic_function\\tracing_compilation.py:139\u001b[0m, in \u001b[0;36mcall_function\u001b[1;34m(args, kwargs, tracing_options)\u001b[0m\n\u001b[0;32m    137\u001b[0m bound_args \u001b[38;5;241m=\u001b[39m function\u001b[38;5;241m.\u001b[39mfunction_type\u001b[38;5;241m.\u001b[39mbind(\u001b[38;5;241m*\u001b[39margs, \u001b[38;5;241m*\u001b[39m\u001b[38;5;241m*\u001b[39mkwargs)\n\u001b[0;32m    138\u001b[0m flat_inputs \u001b[38;5;241m=\u001b[39m function\u001b[38;5;241m.\u001b[39mfunction_type\u001b[38;5;241m.\u001b[39munpack_inputs(bound_args)\n\u001b[1;32m--> 139\u001b[0m \u001b[38;5;28;01mreturn\u001b[39;00m \u001b[43mfunction\u001b[49m\u001b[38;5;241;43m.\u001b[39;49m\u001b[43m_call_flat\u001b[49m\u001b[43m(\u001b[49m\u001b[43m  \u001b[49m\u001b[38;5;66;43;03m# pylint: disable=protected-access\u001b[39;49;00m\n\u001b[0;32m    140\u001b[0m \u001b[43m    \u001b[49m\u001b[43mflat_inputs\u001b[49m\u001b[43m,\u001b[49m\u001b[43m \u001b[49m\u001b[43mcaptured_inputs\u001b[49m\u001b[38;5;241;43m=\u001b[39;49m\u001b[43mfunction\u001b[49m\u001b[38;5;241;43m.\u001b[39;49m\u001b[43mcaptured_inputs\u001b[49m\n\u001b[0;32m    141\u001b[0m \u001b[43m\u001b[49m\u001b[43m)\u001b[49m\n",
      "File \u001b[1;32mc:\\Users\\Evan Mazor\\code\\learning\\learning-tensorflow\\.venv\\Lib\\site-packages\\tensorflow\\python\\eager\\polymorphic_function\\concrete_function.py:1322\u001b[0m, in \u001b[0;36mConcreteFunction._call_flat\u001b[1;34m(self, tensor_inputs, captured_inputs)\u001b[0m\n\u001b[0;32m   1318\u001b[0m possible_gradient_type \u001b[38;5;241m=\u001b[39m gradients_util\u001b[38;5;241m.\u001b[39mPossibleTapeGradientTypes(args)\n\u001b[0;32m   1319\u001b[0m \u001b[38;5;28;01mif\u001b[39;00m (possible_gradient_type \u001b[38;5;241m==\u001b[39m gradients_util\u001b[38;5;241m.\u001b[39mPOSSIBLE_GRADIENT_TYPES_NONE\n\u001b[0;32m   1320\u001b[0m     \u001b[38;5;129;01mand\u001b[39;00m executing_eagerly):\n\u001b[0;32m   1321\u001b[0m   \u001b[38;5;66;03m# No tape is watching; skip to running the function.\u001b[39;00m\n\u001b[1;32m-> 1322\u001b[0m   \u001b[38;5;28;01mreturn\u001b[39;00m \u001b[38;5;28;43mself\u001b[39;49m\u001b[38;5;241;43m.\u001b[39;49m\u001b[43m_inference_function\u001b[49m\u001b[38;5;241;43m.\u001b[39;49m\u001b[43mcall_preflattened\u001b[49m\u001b[43m(\u001b[49m\u001b[43margs\u001b[49m\u001b[43m)\u001b[49m\n\u001b[0;32m   1323\u001b[0m forward_backward \u001b[38;5;241m=\u001b[39m \u001b[38;5;28mself\u001b[39m\u001b[38;5;241m.\u001b[39m_select_forward_and_backward_functions(\n\u001b[0;32m   1324\u001b[0m     args,\n\u001b[0;32m   1325\u001b[0m     possible_gradient_type,\n\u001b[0;32m   1326\u001b[0m     executing_eagerly)\n\u001b[0;32m   1327\u001b[0m forward_function, args_with_tangents \u001b[38;5;241m=\u001b[39m forward_backward\u001b[38;5;241m.\u001b[39mforward()\n",
      "File \u001b[1;32mc:\\Users\\Evan Mazor\\code\\learning\\learning-tensorflow\\.venv\\Lib\\site-packages\\tensorflow\\python\\eager\\polymorphic_function\\atomic_function.py:216\u001b[0m, in \u001b[0;36mAtomicFunction.call_preflattened\u001b[1;34m(self, args)\u001b[0m\n\u001b[0;32m    214\u001b[0m \u001b[38;5;28;01mdef\u001b[39;00m \u001b[38;5;21mcall_preflattened\u001b[39m(\u001b[38;5;28mself\u001b[39m, args: Sequence[core\u001b[38;5;241m.\u001b[39mTensor]) \u001b[38;5;241m-\u001b[39m\u001b[38;5;241m>\u001b[39m Any:\n\u001b[0;32m    215\u001b[0m \u001b[38;5;250m  \u001b[39m\u001b[38;5;124;03m\"\"\"Calls with flattened tensor inputs and returns the structured output.\"\"\"\u001b[39;00m\n\u001b[1;32m--> 216\u001b[0m   flat_outputs \u001b[38;5;241m=\u001b[39m \u001b[38;5;28;43mself\u001b[39;49m\u001b[38;5;241;43m.\u001b[39;49m\u001b[43mcall_flat\u001b[49m\u001b[43m(\u001b[49m\u001b[38;5;241;43m*\u001b[39;49m\u001b[43margs\u001b[49m\u001b[43m)\u001b[49m\n\u001b[0;32m    217\u001b[0m   \u001b[38;5;28;01mreturn\u001b[39;00m \u001b[38;5;28mself\u001b[39m\u001b[38;5;241m.\u001b[39mfunction_type\u001b[38;5;241m.\u001b[39mpack_output(flat_outputs)\n",
      "File \u001b[1;32mc:\\Users\\Evan Mazor\\code\\learning\\learning-tensorflow\\.venv\\Lib\\site-packages\\tensorflow\\python\\eager\\polymorphic_function\\atomic_function.py:251\u001b[0m, in \u001b[0;36mAtomicFunction.call_flat\u001b[1;34m(self, *args)\u001b[0m\n\u001b[0;32m    249\u001b[0m \u001b[38;5;28;01mwith\u001b[39;00m record\u001b[38;5;241m.\u001b[39mstop_recording():\n\u001b[0;32m    250\u001b[0m   \u001b[38;5;28;01mif\u001b[39;00m \u001b[38;5;28mself\u001b[39m\u001b[38;5;241m.\u001b[39m_bound_context\u001b[38;5;241m.\u001b[39mexecuting_eagerly():\n\u001b[1;32m--> 251\u001b[0m     outputs \u001b[38;5;241m=\u001b[39m \u001b[38;5;28;43mself\u001b[39;49m\u001b[38;5;241;43m.\u001b[39;49m\u001b[43m_bound_context\u001b[49m\u001b[38;5;241;43m.\u001b[39;49m\u001b[43mcall_function\u001b[49m\u001b[43m(\u001b[49m\n\u001b[0;32m    252\u001b[0m \u001b[43m        \u001b[49m\u001b[38;5;28;43mself\u001b[39;49m\u001b[38;5;241;43m.\u001b[39;49m\u001b[43mname\u001b[49m\u001b[43m,\u001b[49m\n\u001b[0;32m    253\u001b[0m \u001b[43m        \u001b[49m\u001b[38;5;28;43mlist\u001b[39;49m\u001b[43m(\u001b[49m\u001b[43margs\u001b[49m\u001b[43m)\u001b[49m\u001b[43m,\u001b[49m\n\u001b[0;32m    254\u001b[0m \u001b[43m        \u001b[49m\u001b[38;5;28;43mlen\u001b[39;49m\u001b[43m(\u001b[49m\u001b[38;5;28;43mself\u001b[39;49m\u001b[38;5;241;43m.\u001b[39;49m\u001b[43mfunction_type\u001b[49m\u001b[38;5;241;43m.\u001b[39;49m\u001b[43mflat_outputs\u001b[49m\u001b[43m)\u001b[49m\u001b[43m,\u001b[49m\n\u001b[0;32m    255\u001b[0m \u001b[43m    \u001b[49m\u001b[43m)\u001b[49m\n\u001b[0;32m    256\u001b[0m   \u001b[38;5;28;01melse\u001b[39;00m:\n\u001b[0;32m    257\u001b[0m     outputs \u001b[38;5;241m=\u001b[39m make_call_op_in_graph(\n\u001b[0;32m    258\u001b[0m         \u001b[38;5;28mself\u001b[39m,\n\u001b[0;32m    259\u001b[0m         \u001b[38;5;28mlist\u001b[39m(args),\n\u001b[0;32m    260\u001b[0m         \u001b[38;5;28mself\u001b[39m\u001b[38;5;241m.\u001b[39m_bound_context\u001b[38;5;241m.\u001b[39mfunction_call_options\u001b[38;5;241m.\u001b[39mas_attrs(),\n\u001b[0;32m    261\u001b[0m     )\n",
      "File \u001b[1;32mc:\\Users\\Evan Mazor\\code\\learning\\learning-tensorflow\\.venv\\Lib\\site-packages\\tensorflow\\python\\eager\\context.py:1552\u001b[0m, in \u001b[0;36mContext.call_function\u001b[1;34m(self, name, tensor_inputs, num_outputs)\u001b[0m\n\u001b[0;32m   1550\u001b[0m cancellation_context \u001b[38;5;241m=\u001b[39m cancellation\u001b[38;5;241m.\u001b[39mcontext()\n\u001b[0;32m   1551\u001b[0m \u001b[38;5;28;01mif\u001b[39;00m cancellation_context \u001b[38;5;129;01mis\u001b[39;00m \u001b[38;5;28;01mNone\u001b[39;00m:\n\u001b[1;32m-> 1552\u001b[0m   outputs \u001b[38;5;241m=\u001b[39m \u001b[43mexecute\u001b[49m\u001b[38;5;241;43m.\u001b[39;49m\u001b[43mexecute\u001b[49m\u001b[43m(\u001b[49m\n\u001b[0;32m   1553\u001b[0m \u001b[43m      \u001b[49m\u001b[43mname\u001b[49m\u001b[38;5;241;43m.\u001b[39;49m\u001b[43mdecode\u001b[49m\u001b[43m(\u001b[49m\u001b[38;5;124;43m\"\u001b[39;49m\u001b[38;5;124;43mutf-8\u001b[39;49m\u001b[38;5;124;43m\"\u001b[39;49m\u001b[43m)\u001b[49m\u001b[43m,\u001b[49m\n\u001b[0;32m   1554\u001b[0m \u001b[43m      \u001b[49m\u001b[43mnum_outputs\u001b[49m\u001b[38;5;241;43m=\u001b[39;49m\u001b[43mnum_outputs\u001b[49m\u001b[43m,\u001b[49m\n\u001b[0;32m   1555\u001b[0m \u001b[43m      \u001b[49m\u001b[43minputs\u001b[49m\u001b[38;5;241;43m=\u001b[39;49m\u001b[43mtensor_inputs\u001b[49m\u001b[43m,\u001b[49m\n\u001b[0;32m   1556\u001b[0m \u001b[43m      \u001b[49m\u001b[43mattrs\u001b[49m\u001b[38;5;241;43m=\u001b[39;49m\u001b[43mattrs\u001b[49m\u001b[43m,\u001b[49m\n\u001b[0;32m   1557\u001b[0m \u001b[43m      \u001b[49m\u001b[43mctx\u001b[49m\u001b[38;5;241;43m=\u001b[39;49m\u001b[38;5;28;43mself\u001b[39;49m\u001b[43m,\u001b[49m\n\u001b[0;32m   1558\u001b[0m \u001b[43m  \u001b[49m\u001b[43m)\u001b[49m\n\u001b[0;32m   1559\u001b[0m \u001b[38;5;28;01melse\u001b[39;00m:\n\u001b[0;32m   1560\u001b[0m   outputs \u001b[38;5;241m=\u001b[39m execute\u001b[38;5;241m.\u001b[39mexecute_with_cancellation(\n\u001b[0;32m   1561\u001b[0m       name\u001b[38;5;241m.\u001b[39mdecode(\u001b[38;5;124m\"\u001b[39m\u001b[38;5;124mutf-8\u001b[39m\u001b[38;5;124m\"\u001b[39m),\n\u001b[0;32m   1562\u001b[0m       num_outputs\u001b[38;5;241m=\u001b[39mnum_outputs,\n\u001b[1;32m   (...)\u001b[0m\n\u001b[0;32m   1566\u001b[0m       cancellation_manager\u001b[38;5;241m=\u001b[39mcancellation_context,\n\u001b[0;32m   1567\u001b[0m   )\n",
      "File \u001b[1;32mc:\\Users\\Evan Mazor\\code\\learning\\learning-tensorflow\\.venv\\Lib\\site-packages\\tensorflow\\python\\eager\\execute.py:53\u001b[0m, in \u001b[0;36mquick_execute\u001b[1;34m(op_name, num_outputs, inputs, attrs, ctx, name)\u001b[0m\n\u001b[0;32m     51\u001b[0m \u001b[38;5;28;01mtry\u001b[39;00m:\n\u001b[0;32m     52\u001b[0m   ctx\u001b[38;5;241m.\u001b[39mensure_initialized()\n\u001b[1;32m---> 53\u001b[0m   tensors \u001b[38;5;241m=\u001b[39m \u001b[43mpywrap_tfe\u001b[49m\u001b[38;5;241;43m.\u001b[39;49m\u001b[43mTFE_Py_Execute\u001b[49m\u001b[43m(\u001b[49m\u001b[43mctx\u001b[49m\u001b[38;5;241;43m.\u001b[39;49m\u001b[43m_handle\u001b[49m\u001b[43m,\u001b[49m\u001b[43m \u001b[49m\u001b[43mdevice_name\u001b[49m\u001b[43m,\u001b[49m\u001b[43m \u001b[49m\u001b[43mop_name\u001b[49m\u001b[43m,\u001b[49m\n\u001b[0;32m     54\u001b[0m \u001b[43m                                      \u001b[49m\u001b[43minputs\u001b[49m\u001b[43m,\u001b[49m\u001b[43m \u001b[49m\u001b[43mattrs\u001b[49m\u001b[43m,\u001b[49m\u001b[43m \u001b[49m\u001b[43mnum_outputs\u001b[49m\u001b[43m)\u001b[49m\n\u001b[0;32m     55\u001b[0m \u001b[38;5;28;01mexcept\u001b[39;00m core\u001b[38;5;241m.\u001b[39m_NotOkStatusException \u001b[38;5;28;01mas\u001b[39;00m e:\n\u001b[0;32m     56\u001b[0m   \u001b[38;5;28;01mif\u001b[39;00m name \u001b[38;5;129;01mis\u001b[39;00m \u001b[38;5;129;01mnot\u001b[39;00m \u001b[38;5;28;01mNone\u001b[39;00m:\n",
      "\u001b[1;31mKeyboardInterrupt\u001b[0m: "
     ]
    }
   ],
   "source": [
    "history = model.fit(train_dataset, epochs=10,\n",
    "                    validation_data=test_dataset,\n",
    "                    validation_steps=30)"
   ]
  }
 ],
 "metadata": {
  "kernelspec": {
   "display_name": ".venv",
   "language": "python",
   "name": "python3"
  },
  "language_info": {
   "codemirror_mode": {
    "name": "ipython",
    "version": 3
   },
   "file_extension": ".py",
   "mimetype": "text/x-python",
   "name": "python",
   "nbconvert_exporter": "python",
   "pygments_lexer": "ipython3",
   "version": "3.12.3"
  }
 },
 "nbformat": 4,
 "nbformat_minor": 2
}
