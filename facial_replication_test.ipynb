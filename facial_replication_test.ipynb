{
 "cells": [
  {
   "cell_type": "code",
   "execution_count": 4,
   "metadata": {},
   "outputs": [],
   "source": [
    "def get_points_from_face_results(face_results):\n",
    "    positions = []\n",
    "    for landmark in face_results.multi_face_landmarks[0].landmark:\n",
    "        positions.append([landmark.x - 0.5, -landmark.y + 0.5, -landmark.z])\n",
    "    return positions"
   ]
  },
  {
   "cell_type": "code",
   "execution_count": 5,
   "metadata": {},
   "outputs": [
    {
     "data": {
      "application/vnd.jupyter.widget-view+json": {
       "model_id": "e0230deeb57b434aa5fa9894bfa8e8a1",
       "version_major": 2,
       "version_minor": 0
      },
      "text/plain": [
       "Renderer(camera=PerspectiveCamera(aspect=1.5, position=(0.0, 0.0, 1.0), projectionMatrix=(1.0, 0.0, 0.0, 0.0, …"
      ]
     },
     "metadata": {},
     "output_type": "display_data"
    }
   ],
   "source": [
    "from pythreejs import *\n",
    "from IPython.display import display\n",
    "import time\n",
    "import random\n",
    "\n",
    "positions = get_points_from_face_results(face_results)\n",
    "\n",
    "mask_geometry = BufferGeometry(attributes={\n",
    "    'position': BufferAttribute(positions),\n",
    "})\n",
    "\n",
    "cube_geometry = BoxGeometry(1, 0.5, 1)\n",
    "cube_material = MeshBasicMaterial(color='red', wireframe=True)\n",
    "mask_material = PointsMaterial(color='blue', size=0.02, sizeAttenuation=True)\n",
    "\n",
    "cube = Mesh(geometry=cube_geometry, material=cube_material)\n",
    "mask = Points(geometry=mask_geometry, material=mask_material)\n",
    "\n",
    "scene = Scene(children=[cube, mask, AmbientLight(color='#777777')])\n",
    "\n",
    "camera = PerspectiveCamera(position=[0, 0, 1], aspect=1.5)\n",
    "# camera.lookAt([10, -10, 10])\n",
    "\n",
    "renderer = Renderer(camera=camera, scene=scene, controls=[OrbitControls(controlling=camera)], width=600, height=400)\n",
    "\n",
    "# Display the cube\n",
    "display(renderer)\n",
    "\n",
    "# while True:\n",
    "#     new_positions = np.random.rand(num_points, 3) * 2 - 1\n",
    "#     # Update the geometry's position attribute\n",
    "#     mask.geometry.attributes['position'].array = new_positions\n",
    "#     # Notify the renderer that the geometry has changed\n",
    "#     mask.geometry.attributes['position'].needsUpdate = True\n",
    "#     time.sleep(0.001)  # Wait for 1 second\n",
    "#     renderer.render(scene, camera)"
   ]
  },
  {
   "cell_type": "code",
   "execution_count": 7,
   "metadata": {},
   "outputs": [],
   "source": [
    "import cv2\n",
    "import mediapipe as mp\n",
    "\n",
    "mp_face_mesh = mp.solutions.face_mesh\n",
    "face_mesh = mp_face_mesh.FaceMesh()\n",
    "\n",
    "mp_drawing = mp.solutions.drawing_utils\n",
    "mp_drawing_styles = mp.solutions.drawing_styles\n",
    "\n",
    "cap = cv2.VideoCapture(0)  # 0 for the default webcam\n",
    "\n",
    "while cap.isOpened():\n",
    "    ret, frame = cap.read()\n",
    "    if not ret:\n",
    "        break\n",
    "\n",
    "    frame = cv2.flip(frame, 1)\n",
    "    rgb_frame = cv2.cvtColor(frame, cv2.COLOR_BGR2RGB)\n",
    "\n",
    "    # Process the frame for face and hand landmarks\n",
    "    face_results = face_mesh.process(rgb_frame)\n",
    "\n",
    "    if face_results.multi_face_landmarks:\n",
    "        mask.geometry.attributes['position'].array = get_points_from_face_results(face_results)\n",
    "        mask.geometry.attributes['position'].needsUpdate = True\n",
    "        renderer.render(scene, camera)\n",
    "        # for face_landmarks in face_results.multi_face_landmarks:\n",
    "        #     mp_drawing.draw_landmarks(\n",
    "        #         frame,\n",
    "        #         face_landmarks,\n",
    "        #         mp_face_mesh.FACEMESH_TESSELATION,\n",
    "        #         landmark_drawing_spec=None,\n",
    "        #         connection_drawing_spec=mp_drawing_styles.get_default_face_mesh_tesselation_style())\n",
    "\n",
    "    cv2.imshow('MediaPipe Frame', frame)\n",
    "\n",
    "    if cv2.waitKey(10) & 0xFF == ord('q'):\n",
    "        break\n",
    "\n",
    "cap.release()\n",
    "cv2.destroyAllWindows()"
   ]
  }
 ],
 "metadata": {
  "kernelspec": {
   "display_name": ".venv",
   "language": "python",
   "name": "python3"
  },
  "language_info": {
   "codemirror_mode": {
    "name": "ipython",
    "version": 3
   },
   "file_extension": ".py",
   "mimetype": "text/x-python",
   "name": "python",
   "nbconvert_exporter": "python",
   "pygments_lexer": "ipython3",
   "version": "3.12.3"
  }
 },
 "nbformat": 4,
 "nbformat_minor": 2
}
